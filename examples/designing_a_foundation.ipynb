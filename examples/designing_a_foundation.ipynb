{
 "cells": [
  {
   "cell_type": "markdown",
   "metadata": {
    "collapsed": true
   },
   "source": [
    "## Saving and loading objects"
   ]
  },
  {
   "cell_type": "code",
   "execution_count": 1,
   "metadata": {},
   "outputs": [],
   "source": [
    "import sfsimodels as sm\n",
    "import geofound as gf"
   ]
  },
  {
   "cell_type": "markdown",
   "metadata": {},
   "source": [
    "## Define a soil"
   ]
  },
  {
   "cell_type": "code",
   "execution_count": 2,
   "metadata": {},
   "outputs": [],
   "source": [
    "# Set the void ratio and specific gravity\n",
    "sl = sm.Soil()\n",
    "sl.phi = 32.0  # soil friction angle\n",
    "sl.unit_dry_weight = 17.\n",
    "sl.cohesion = 0.0  # Pa\n"
   ]
  },
  {
   "cell_type": "markdown",
   "metadata": {},
   "source": [
    "## Size the foundation using the geofound package"
   ]
  },
  {
   "cell_type": "code",
   "execution_count": 3,
   "metadata": {},
   "outputs": [
    {
     "name": "stdout",
     "output_type": "stream",
     "text": [
      "Foundation width 1.90m\nFoundation length: 3.80m\nFoundation depth: 0.00m\n"
     ]
    }
   ],
   "source": [
    "\n",
    "vertical_load = 800.\n",
    "fos_target = 3.5\n",
    "method = \"meyerhoff\"\n",
    "\n",
    "fd = gf.size_footing_for_capacity(sl, vertical_load, fos_target, \n",
    "                                        method=method, length_to_width=2)\n",
    "print(\"Foundation width %.2fm\" % fd.width)\n",
    "print(\"Foundation length: %.2fm\" % fd.length)\n",
    "print(\"Foundation depth: %.2fm\" % fd.depth)"
   ]
  },
  {
   "cell_type": "markdown",
   "metadata": {},
   "source": [
    "## Calculate the capacity and actual factor of safety"
   ]
  },
  {
   "cell_type": "code",
   "execution_count": 4,
   "metadata": {},
   "outputs": [
    {
     "name": "stdout",
     "output_type": "stream",
     "text": [
      "Meyerhof (1963)\n - q_ult: 414Pa\n - FS actual: 3.73\nVesics (1975)\n - q_ult: 390Pa\n - FS actual: 3.52\n"
     ]
    }
   ],
   "source": [
    "# using Meyerhof (1963)\n",
    "gf.capacity_meyerhof_1963(sl, fd)\n",
    "print(\"Meyerhof (1963)\")\n",
    "print(\" - q_ult: %.0fPa\" % fd.q_ult)\n",
    "print(\" - FS actual: %.2f\" % (fd.q_ult * fd.area / vertical_load))\n",
    "\n",
    "# using Vesics (1975)\n",
    "print(\"Vesics (1975)\")\n",
    "gf.capacity_vesics_1975(sl, fd)\n",
    "print(\" - q_ult: %.0fPa\" % fd.q_ult)\n",
    "print(\" - FS actual: %.2f\" % (fd.q_ult * fd.area / vertical_load))\n",
    "\n"
   ]
  },
  {
   "cell_type": "code",
   "execution_count": null,
   "metadata": {},
   "outputs": [],
   "source": []
  }
 ],
 "metadata": {
  "kernelspec": {
   "display_name": "Python 2",
   "language": "python",
   "name": "python2"
  },
  "language_info": {
   "codemirror_mode": {
    "name": "ipython",
    "version": 2
   },
   "file_extension": ".py",
   "mimetype": "text/x-python",
   "name": "python",
   "nbconvert_exporter": "python",
   "pygments_lexer": "ipython2",
   "version": "2.7.6"
  }
 },
 "nbformat": 4,
 "nbformat_minor": 0
}
