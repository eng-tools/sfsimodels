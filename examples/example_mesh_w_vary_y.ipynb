{
 "cells": [
  {
   "cell_type": "markdown",
   "source": [
    "# Explanation of the FiniteElementVaryY2DMeshConstructor\n",
    "This file presents a step-by-step application of the `sfsimodels.num.mesh.FiniteElementVaryY2DMeshConstructor`\n",
    "to an `sfsimodels.TwoDSystem`.\n",
    "\n",
    "## Import python libraries for displaying images"
   ],
   "metadata": {
    "collapsed": false,
    "pycharm": {
     "name": "#%% md\n"
    }
   }
  },
  {
   "cell_type": "code",
   "execution_count": 8,
   "metadata": {
    "collapsed": true
   },
   "outputs": [],
   "source": [
    "%gui qt5\n",
    "from PyQt5.Qt import QApplication\n",
    "import pyqtgraph as pg\n",
    "from matplotlib.pyplot import imshow\n",
    "import matplotlib.pyplot as plt\n",
    "import sfsimodels as sm\n",
    "from sfsimodels.num import mesh\n",
    "import numpy as np\n",
    "import o3plot\n",
    "import pyqtgraph.exporters\n",
    "\n",
    "# start qt event loop\n",
    "_instance = QApplication.instance()\n",
    "if not _instance:\n",
    "    _instance = QApplication([])\n",
    "app = _instance"
   ]
  },
  {
   "cell_type": "markdown",
   "source": [
    "## Define a two dimensional system\n",
    "The system consists of two soil profiles with angled layers, a surface ground slope and a\n",
    "building with an embedded foundation."
   ],
   "metadata": {
    "collapsed": false,
    "pycharm": {
     "name": "#%% md\n"
    }
   }
  },
  {
   "cell_type": "code",
   "execution_count": 6,
   "outputs": [
    {
     "name": "stdout",
     "output_type": "stream",
     "text": [
      "22.0 1.8\n"
     ]
    },
    {
     "data": {
      "text/plain": "<Figure size 432x288 with 1 Axes>",
      "image/png": "[encoded data removed]"
     },
     "metadata": {
      "needs_background": "light"
     },
     "output_type": "display_data"
    }
   ],
   "source": [
    "vs = 150.0\n",
    "rho = 1.8\n",
    "g_mod = vs ** 2 * rho\n",
    "\n",
    "sl1 = sm.Soil(g_mod=g_mod, unit_dry_weight=rho * 9.8, poissons_ratio=0.32)\n",
    "sl2 = sm.Soil(g_mod=g_mod, unit_dry_weight=rho * 9.8, poissons_ratio=0.33)\n",
    "sl3 = sm.Soil(g_mod=g_mod, unit_dry_weight=rho * 9.8, poissons_ratio=0.34)\n",
    "sl4 = sm.Soil(g_mod=g_mod, unit_dry_weight=rho * 9.8, poissons_ratio=0.35)\n",
    "sl5 = sm.Soil(g_mod=g_mod, unit_dry_weight=rho * 9.8, poissons_ratio=0.36)\n",
    "sp = sm.SoilProfile()\n",
    "h_face = 1.8\n",
    "sp.add_layer(0, sl1)\n",
    "sp.add_layer(3.4, sl2)\n",
    "sp.add_layer(5.7, sl3)\n",
    "sp2 = sm.SoilProfile()\n",
    "sp2.add_layer(0, sl4)\n",
    "sp2.add_layer(3.9, sl2)\n",
    "sp2.add_layer(6.5, sl5)\n",
    "sp2.height = 20\n",
    "sp.x_angles = [0.17, 0.07, 0.0]\n",
    "sp2.x_angles = [0.0, 0.00, 0.0]\n",
    "\n",
    "fd = sm.RaftFoundation()\n",
    "fd.width = 3\n",
    "fd.depth = 0.6\n",
    "fd.ip_axis = 'width'\n",
    "fd.height = 0.7\n",
    "fd.length = 100\n",
    "tds = sm.TwoDSystem(width=33, height=7.5)\n",
    "tds.add_sp(sp, x=0)\n",
    "tds.add_sp(sp2, x=17)\n",
    "tds.x_surf = np.array([0, 12, 14, tds.width])\n",
    "tds.y_surf = np.array([0, 0, h_face, h_face])\n",
    "bd = sm.NullBuilding()\n",
    "bd.set_foundation(fd, x=0.0)\n",
    "tds.add_bd(bd, x=22)\n",
    "\n",
    "x_scale_pos = np.array([0, 5, 10, 16, 19, 25, 29])\n",
    "x_scale_vals = np.array([2., 1.2, 1.0, 1.2, 0.7, 1.2, 2])\n",
    "win = o3plot.create_scaled_window_for_tds(tds, title='ECP definition')\n",
    "o3plot.plot_two_d_system(win, tds)\n",
    "exp = pyqtgraph.exporters.ImageExporter(win.plotItem)\n",
    "exp.export('', toBytes=True)\n",
    "imshow(exp.bg)\n",
    "plt.show()"
   ],
   "metadata": {
    "collapsed": false,
    "pycharm": {
     "name": "#%%\n"
    }
   }
  },
  {
   "cell_type": "markdown",
   "source": [
    "## Initialise the constructor\n",
    "The constructor is given four primary inputs:\n",
    " - `tds`: an `sfsimodels.TwoDSystem`\n",
    " - `dy_target`: `float` which defines the target height of each element\n",
    " - `x_scale_pos`: `array_like`, defining positions from the left edge, where the element width should change size\n",
    " - `x_scale_vals`: `array_like`, defining the scale between the target element height and target element width at\n",
    " each zone between the `x_scale_pos` points\n",
    "\n",
    "The `auto_run` parameter is also set to `False` to allow each step to be run individually."
   ],
   "metadata": {
    "collapsed": false,
    "pycharm": {
     "name": "#%% md\n"
    }
   }
  },
  {
   "cell_type": "code",
   "execution_count": 9,
   "outputs": [],
   "source": [
    "# Initial the constructor\n",
    "fc = mesh.FiniteElementVaryY2DMeshConstructor(tds, 0.5, x_scale_pos=x_scale_pos,\n",
    "                                                       x_scale_vals=x_scale_vals, auto_run=False)"
   ],
   "metadata": {
    "collapsed": false,
    "pycharm": {
     "name": "#%%\n"
    }
   }
  },
  {
   "cell_type": "markdown",
   "source": [
    "## Step 1: Find the import coordinates and slopes in the 2D system\n",
    "This includes layer boundaries, foundation corners, and surface slopes that should be\n",
    "maintained in the FE mesh"
   ],
   "metadata": {
    "collapsed": false,
    "pycharm": {
     "name": "#%% md\n"
    }
   }
  },
  {
   "cell_type": "code",
   "execution_count": 14,
   "outputs": [
    {
     "data": {
      "text/plain": "<Figure size 432x288 with 1 Axes>",
      "image/png": "[encoded data removed]"
     },
     "metadata": {
      "needs_background": "light"
     },
     "output_type": "display_data"
    }
   ],
   "source": [
    "fc.get_special_coords_and_slopes()\n",
    "\n",
    "# plot the model state\n",
    "win = o3plot.create_scaled_window_for_tds(tds, title='get_special_coords_and_slopes')\n",
    "y_sps_surf = np.interp(tds.x_sps, tds.x_surf, tds.y_surf)\n",
    "for i in range(len(tds.sps)):\n",
    "    x0 = tds.x_sps[i]\n",
    "    if i == len(tds.sps) - 1:\n",
    "        x1 = tds.width\n",
    "    else:\n",
    "        x1 = tds.x_sps[i + 1]\n",
    "    xs = np.array([x0, x1])\n",
    "    x_angles = list(tds.sps[i].x_angles)\n",
    "    sp = tds.sps[i]\n",
    "    for ll in range(1, sp.n_layers + 1):\n",
    "        ys = y_sps_surf[i] - sp.layer_depth(ll) + x_angles[ll - 1] * (xs - x0)\n",
    "        win.plot(xs, ys, pen='w')\n",
    "for i in range(len(fc.sds)):\n",
    "    win.plot(fc.sds[i][0], fc.sds[i][1], pen='b')\n",
    "win.plot([0, fc.tds.width], [-fc.tds.height, -fc.tds.height], pen='w')\n",
    "xcs = fc.xcs_sorted\n",
    "for i in range(len(xcs)):\n",
    "    xc = xcs[i]\n",
    "    xn = xc * np.ones_like(list(fc.yd[xc]))\n",
    "    win.plot(xn, list(fc.yd[xc]), symbol='o', symbolPen='r')\n",
    "exp = pyqtgraph.exporters.ImageExporter(win.plotItem)\n",
    "exp.export('', toBytes=True)\n",
    "imshow(exp.bg)\n",
    "plt.show()"
   ],
   "metadata": {
    "collapsed": false,
    "pycharm": {
     "name": "#%%\n"
    }
   }
  },
  {
   "cell_type": "code",
   "execution_count": 14,
   "outputs": [],
   "source": [],
   "metadata": {
    "collapsed": false,
    "pycharm": {
     "name": "#%%\n"
    }
   }
  },
  {
   "cell_type": "code",
   "execution_count": null,
   "outputs": [],
   "source": [
    "\n"
   ],
   "metadata": {
    "collapsed": false,
    "pycharm": {
     "name": "#%%\n"
    }
   }
  }
 ],
 "metadata": {
  "kernelspec": {
   "display_name": "Python 3",
   "language": "python",
   "name": "python3"
  },
  "language_info": {
   "codemirror_mode": {
    "name": "ipython",
    "version": 2
   },
   "file_extension": ".py",
   "mimetype": "text/x-python",
   "name": "python",
   "nbconvert_exporter": "python",
   "pygments_lexer": "ipython2",
   "version": "2.7.6"
  }
 },
 "nbformat": 4,
 "nbformat_minor": 0
}