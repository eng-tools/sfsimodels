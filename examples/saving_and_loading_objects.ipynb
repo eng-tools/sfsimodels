{
 "cells": [
  {
   "cell_type": "markdown",
   "metadata": {
    "collapsed": true
   },
   "source": [
    "## Saving and loading objects"
   ]
  },
  {
   "cell_type": "code",
   "execution_count": 1,
   "metadata": {},
   "outputs": [],
   "source": [
    "import numpy as np\n",
    "import json\n",
    "\n",
    "import sfsimodels as sm"
   ]
  },
  {
   "cell_type": "markdown",
   "metadata": {},
   "source": [
    "## Define a soil"
   ]
  },
  {
   "cell_type": "code",
   "execution_count": 2,
   "metadata": {},
   "outputs": [],
   "source": [
    "# Set the void ratio and specific gravity\n",
    "sl = sm.Soil()\n",
    "sl.id = 1  # Must set an id before saving\n",
    "sl.e_curr = 0.7\n",
    "assert sl.unit_dry_weight is None\n",
    "sl.specific_gravity = 2.95\n",
    "assert np.isclose(sl.unit_dry_weight, 17000, rtol=0.01)\n",
    "\n",
    "# set modulus parameters\n",
    "g_mod_set = 40e6 \n",
    "sl.g_mod = g_mod_set\n",
    "sl.poissons_ratio = 0.4"
   ]
  },
  {
   "cell_type": "markdown",
   "metadata": {},
   "source": [
    "## Save the soil to file then load it"
   ]
  },
  {
   "cell_type": "code",
   "execution_count": 3,
   "metadata": {},
   "outputs": [
    {
     "name": "stdout",
     "output_type": "stream",
     "text": [
      "40000000.0\n"
     ]
    }
   ],
   "source": [
    "# Create an output object\n",
    "ecp_output = sm.Output()\n",
    "\n",
    "# Add the soil to the output object\n",
    "ecp_output.add_to_dict(sl)\n",
    "\n",
    "# Add further info to the output object\n",
    "ecp_output.name = \"a single soil\"\n",
    "ecp_output.units = \"N, kg, m, s\"\n",
    "ecp_output.comments = \"\"\n",
    "\n",
    "# Export the output object to a json string, which can be saved to file\n",
    "p_str = json.dumps(ecp_output.to_dict(), skipkeys=[\"__repr__\"], indent=4)\n",
    "\n",
    "# load the json string using the sfsimodels.load_json method\n",
    "objs = sm.loads_json(p_str, verbose=0)\n",
    "loaded_soil = objs['soils'][1]\n",
    "assert np.isclose(loaded_soil.g_mod, sl.g_mod)\n",
    "print(sl.g_mod)"
   ]
  },
  {
   "cell_type": "markdown",
   "metadata": {},
   "source": [
    "## Define a soil profile"
   ]
  },
  {
   "cell_type": "code",
   "execution_count": 4,
   "metadata": {},
   "outputs": [],
   "source": [
    "# Define another soil\n",
    "sl_2 = sm.Soil()\n",
    "sl_2.id = 2\n",
    "sl_2.phi = 33.\n",
    "sl_2.cohesion = 50000\n",
    "sl_2.unit_dry_weight = 16000\n",
    "\n",
    "# Define a soil profile\n",
    "sp = sm.SoilProfile()\n",
    "depth_1 = 0.0  # m (set to top of layer from surface)\n",
    "depth_2 = 4.0  # m\n",
    "\n",
    "sp.add_layer(depth_1, sl)\n",
    "sp.add_layer(depth_2, sl_2)\n",
    "sp.id = 0\n",
    "sp.height = 12.0  # m (total height of profile)\n",
    "sp.gwl = 5.0  # m (ground water level from surface)"
   ]
  },
  {
   "cell_type": "markdown",
   "metadata": {},
   "source": [
    "## Save and load a soil profile"
   ]
  },
  {
   "cell_type": "code",
   "execution_count": 5,
   "metadata": {},
   "outputs": [
    {
     "name": "stdout",
     "output_type": "stream",
     "text": [
      "12.0\n"
     ]
    }
   ],
   "source": [
    "# re-initiate the output object\n",
    "ecp_output = sm.Output()\n",
    "\n",
    "# add the soil profile, it automatically adds the associated soil objects\n",
    "ecp_output.add_to_dict(sp)\n",
    "\n",
    "# Add further info to the output object\n",
    "ecp_output.name = \"a soil profile\"\n",
    "ecp_output.units = \"N, kg, m, s\"\n",
    "ecp_output.comments = \"\"\n",
    "\n",
    "# Export the output object to a json string, which can be saved to file\n",
    "p_str = json.dumps(ecp_output.to_dict(), skipkeys=[\"__repr__\"], indent=4)\n",
    "\n",
    "# load the json string using the sfsimodels.load_json method\n",
    "objs = sm.loads_json(p_str, verbose=0)\n",
    "loaded_soil_profile = objs['soil_profiles'][0]\n",
    "assert np.isclose(loaded_soil_profile.height, 12)\n",
    "assert np.isclose(loaded_soil_profile.layer(1).g_mod, sl.g_mod)\n",
    "print(loaded_soil_profile.height)"
   ]
  },
  {
   "cell_type": "markdown",
   "metadata": {},
   "source": [
    "## Extend a standard model\n",
    "\n",
    "This example takes the soil model and adds new parameters and functionality."
   ]
  },
  {
   "cell_type": "markdown",
   "metadata": {},
   "source": [
    "### Define the extension\n",
    "\n",
    "In this example the Soil model is extended, however you can inherit from custom object and overwrite both the 'type' and 'base_type' parameters."
   ]
  },
  {
   "cell_type": "code",
   "execution_count": 11,
   "metadata": {},
   "outputs": [],
   "source": [
    "class SpecialSoil(sm.Soil):\n",
    "    type = \"special_soil\"  # tag used to save a load\n",
    "    \n",
    "    def __init__(self):\n",
    "        super(SpecialSoil, self).__init__()  # run the base model initialisation function\n",
    "        \n",
    "        self.cotton_content = None\n",
    "        # list the extra save a load parameters that should be saved and loaded\n",
    "        self._extra_class_inputs = [\"cotton_content\"] \n",
    "        self.inputs = self.inputs + self._extra_class_inputs\n",
    "        \n",
    "    def custom_func(self, value):  # Add additional functionality\n",
    "        return value + self.cohesion\n"
   ]
  },
  {
   "cell_type": "markdown",
   "metadata": {},
   "source": [
    "### Save, load and use the extended soil model"
   ]
  },
  {
   "cell_type": "code",
   "execution_count": 19,
   "metadata": {},
   "outputs": [
    {
     "name": "stdout",
     "output_type": "stream",
     "text": [
      "Assert cotton_content initialises and is set to None:  None\ns_soil.cotton_content:  34\ncustom_func(4):  30004.0\nloaded_soil.cotton_content:  34\nloaded_soil.custom_func(5):  30005.0\n"
     ]
    }
   ],
   "source": [
    "s_soil = SpecialSoil()\n",
    "s_soil.id = 1\n",
    "s_soil.cohesion = 30000.0\n",
    "print(\"Assert cotton_content initialises and is set to None: \", s_soil.cotton_content)\n",
    "s_soil.cotton_content = 34\n",
    "print(\"s_soil.cotton_content: \", s_soil.cotton_content)\n",
    "print(\"custom_func(4): \", s_soil.custom_func(4))\n",
    "\n",
    "# create an output object\n",
    "ecp_output = sm.Output()\n",
    "ecp_output.add_to_dict(s_soil)\n",
    "# save to a string, use json.dump to save to file\n",
    "p_str = json.dumps(ecp_output.to_dict(), skipkeys=[\"__repr__\"])\n",
    "\n",
    "# load the json string using the sfsimodels.load_json method\n",
    "# pass a dict of <base_type>-<type>: Object pairs in to load to a custom object\n",
    "objs = sm.loads_json(p_str, verbose=0, custom={\"soil-special_soil\": SpecialSoil})\n",
    "loaded_soil = objs['soils'][1]\n",
    "assert isinstance(loaded_soil, SpecialSoil)\n",
    "print(\"loaded_soil.cotton_content: \", loaded_soil.cotton_content)\n",
    "print(\"loaded_soil.custom_func(5): \", s_soil.custom_func(5))\n"
   ]
  },
  {
   "cell_type": "markdown",
   "metadata": {},
   "source": [
    "### Lazy alternative (just for saving)\n",
    "\n",
    "If you just want to add some custom attributes to the output."
   ]
  },
  {
   "cell_type": "code",
   "execution_count": 24,
   "metadata": {},
   "outputs": [],
   "source": [
    "s2 = sm.Soil()\n",
    "s2.id = 1\n",
    "s2.special_prop = 3\n",
    "# custom parameters are not saved by default\n",
    "ecp_output = sm.Output()\n",
    "ecp_output.add_to_dict(s2)\n",
    "p_str = json.dumps(ecp_output.to_dict(), skipkeys=[\"__repr__\"])\n",
    "objs = sm.loads_json(p_str, verbose=0)\n",
    "loaded_soil = objs['soils'][1]\n",
    "assert not hasattr(loaded_soil, \"special_prop\")\n",
    "\n",
    "# to add to output without creating a new model\n",
    "# just add directly to the inputs\n",
    "s2.inputs += [\"special_prop\"]\n",
    "ecp_output = sm.Output()\n",
    "ecp_output.add_to_dict(s2)\n",
    "p_str = json.dumps(ecp_output.to_dict(), skipkeys=[\"__repr__\"])\n",
    "objs = sm.loads_json(p_str, verbose=0)\n",
    "loaded_soil = objs['soils'][1]\n",
    "assert hasattr(loaded_soil, \"special_prop\")"
   ]
  },
  {
   "cell_type": "code",
   "execution_count": null,
   "metadata": {},
   "outputs": [],
   "source": []
  }
 ],
 "metadata": {
  "kernelspec": {
   "display_name": "Python 2",
   "language": "python",
   "name": "python2"
  },
  "language_info": {
   "codemirror_mode": {
    "name": "ipython",
    "version": 2
   },
   "file_extension": ".py",
   "mimetype": "text/x-python",
   "name": "python",
   "nbconvert_exporter": "python",
   "pygments_lexer": "ipython2",
   "version": "2.7.6"
  }
 },
 "nbformat": 4,
 "nbformat_minor": 0
}
